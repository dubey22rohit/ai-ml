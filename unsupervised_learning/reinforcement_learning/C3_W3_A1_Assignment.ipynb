{
 "cells": [
  {
   "cell_type": "markdown",
   "metadata": {},
   "source": [
    "# Deep Q-Learning - Lunar Lander\n",
    "\n",
    "In this assignment, you will train an agent to land a lunar lander safely on a landing pad on the surface of the moon.\n",
    "\n",
    "\n",
    "# Outline\n",
    "- [ 1 - Import Packages <img align=\"Right\" src=\"./images/lunar_lander.gif\" width = 60% >](#1)\n",
    "- [ 2 - Hyperparameters](#2)\n",
    "- [ 3 - The Lunar Lander Environment](#3)\n",
    "  - [ 3.1 Action Space](#3.1)\n",
    "  - [ 3.2 Observation Space](#3.2)\n",
    "  - [ 3.3 Rewards](#3.3)\n",
    "  - [ 3.4 Episode Termination](#3.4)\n",
    "- [ 4 - Load the Environment](#4)\n",
    "- [ 5 - Interacting with the Gym Environment](#5)\n",
    "    - [ 5.1 Exploring the Environment's Dynamics](#5.1)\n",
    "- [ 6 - Deep Q-Learning](#6)\n",
    "  - [ 6.1 Target Network](#6.1)\n",
    "    - [ Exercise 1](#ex01)\n",
    "  - [ 6.2 Experience Replay](#6.2)\n",
    "- [ 7 - Deep Q-Learning Algorithm with Experience Replay](#7)\n",
    "  - [ Exercise 2](#ex02)\n",
    "- [ 8 - Update the Network Weights](#8)\n",
    "- [ 9 - Train the Agent](#9)\n",
    "- [ 10 - See the Trained Agent In Action](#10)\n",
    "- [ 11 - Congratulations!](#11)\n",
    "- [ 12 - References](#12)\n"
   ]
  },
  {
   "cell_type": "markdown",
   "metadata": {},
   "source": [
    "_**NOTE:** To prevent errors from the autograder, you are not allowed to edit or delete non-graded cells in this lab. Please also refrain from adding any new cells. \n",
    "**Once you have passed this assignment** and want to experiment with any of the non-graded code, you may follow the instructions at the bottom of this notebook._"
   ]
  },
  {
   "cell_type": "markdown",
   "metadata": {},
   "source": [
    "<a name=\"1\"></a>\n",
    "## 1 - Import Packages\n",
    "\n",
    "We'll make use of the following packages:\n",
    "- `numpy` is a package for scientific computing in python.\n",
    "- `deque` will be our data structure for our memory buffer.\n",
    "- `namedtuple` will be used to store the experience tuples.\n",
    "- The `gym` toolkit is a collection of environments that can be used to test reinforcement learning algorithms. We should note that in this notebook we are using `gym` version `0.24.0`.\n",
    "- `PIL.Image` and `pyvirtualdisplay` are needed to render the Lunar Lander environment.\n",
    "- We will use several modules from the `tensorflow.keras` framework for building deep learning models.\n",
    "- `utils` is a module that contains helper functions for this assignment. You do not need to modify the code in this file.\n",
    "\n",
    "Run the cell below to import all the necessary packages."
   ]
  },
  {
   "cell_type": "code",
   "execution_count": 7,
   "metadata": {
    "deletable": false,
    "editable": false,
    "id": "KYbOPKRtfQOr"
   },
   "outputs": [],
   "source": [
    "import time\n",
    "from collections import deque, namedtuple\n",
    "\n",
    "import gym\n",
    "import numpy as np\n",
    "import PIL.Image\n",
    "import tensorflow as tf\n",
    "import utils\n",
    "\n",
    "from pyvirtualdisplay import Display\n",
    "from tensorflow.keras import Sequential\n",
    "from tensorflow.keras.layers import Dense, Input\n",
    "from tensorflow.keras.losses import MSE\n",
    "from tensorflow.keras.optimizers import Adam"
   ]
  },
  {
   "cell_type": "code",
   "execution_count": 8,
   "metadata": {
    "deletable": false,
    "editable": false
   },
   "outputs": [],
   "source": [
    "# Set up a virtual display to render the Lunar Lander environment.\n",
    "Display(visible=0, size=(840, 480)).start();\n",
    "\n",
    "# Set the random seed for TensorFlow\n",
    "tf.random.set_seed(utils.SEED)"
   ]
  },
  {
   "cell_type": "markdown",
   "metadata": {},
   "source": [
    "<a name=\"2\"></a>\n",
    "## 2 - Hyperparameters\n",
    "\n",
    "Run the cell below to set the hyperparameters."
   ]
  },
  {
   "cell_type": "code",
   "execution_count": 9,
   "metadata": {
    "deletable": false,
    "editable": false
   },
   "outputs": [],
   "source": [
    "MEMORY_SIZE = 100_000     # size of memory buffer\n",
    "GAMMA = 0.995             # discount factor\n",
    "ALPHA = 1e-3              # learning rate  \n",
    "NUM_STEPS_FOR_UPDATE = 4  # perform a learning update every C time steps"
   ]
  },
  {
   "cell_type": "markdown",
   "metadata": {},
   "source": [
    "<a name=\"3\"></a>\n",
    "## 3 - The Lunar Lander Environment\n",
    "\n",
    "In this notebook we will be using [OpenAI's Gym Library](https://www.gymlibrary.dev/). The Gym library provides a wide variety of environments for reinforcement learning. To put it simply, an environment represents a problem or task to be solved. In this notebook, we will try to solve the Lunar Lander environment using reinforcement learning.\n",
    "\n",
    "The goal of the Lunar Lander environment is to land the lunar lander safely on the landing pad on the surface of the moon. The landing pad is designated by two flag poles and its center is at coordinates `(0,0)` but the lander is also allowed to land outside of the landing pad. The lander starts at the top center of the environment with a random initial force applied to its center of mass and has infinite fuel. The environment is considered solved if you get `200` points. \n",
    "\n",
    "<br>\n",
    "<br>\n",
    "<figure>\n",
    "  <img src = \"images/lunar_lander.gif\" width = 40%>\n",
    "      <figcaption style = \"text-align: center; font-style: italic\">Fig 1. Lunar Lander Environment.</figcaption>\n",
    "</figure>\n",
    "\n",
    "\n",
    "\n",
    "<a name=\"3.1\"></a>\n",
    "### 3.1 Action Space\n",
    "\n",
    "The agent has four discrete actions available:\n",
    "\n",
    "* Do nothing.\n",
    "* Fire right engine.\n",
    "* Fire main engine.\n",
    "* Fire left engine.\n",
    "\n",
    "Each action has a corresponding numerical value:\n",
    "\n",
    "```python\n",
    "Do nothing = 0\n",
    "Fire right engine = 1\n",
    "Fire main engine = 2\n",
    "Fire left engine = 3\n",
    "```\n",
    "\n",
    "<a name=\"3.2\"></a>\n",
    "### 3.2 Observation Space\n",
    "\n",
    "The agent's observation space consists of a state vector with 8 variables:\n",
    "\n",
    "* Its $(x,y)$ coordinates. The landing pad is always at coordinates $(0,0)$.\n",
    "* Its linear velocities $(\\dot x,\\dot y)$.\n",
    "* Its angle $\\theta$.\n",
    "* Its angular velocity $\\dot \\theta$.\n",
    "* Two booleans, $l$ and $r$, that represent whether each leg is in contact with the ground or not.\n",
    "\n",
    "<a name=\"3.3\"></a>\n",
    "### 3.3 Rewards\n",
    "\n",
    "After every step, a reward is granted. The total reward of an episode is the sum of the rewards for all the steps within that episode.\n",
    "\n",
    "For each step, the reward:\n",
    "- is increased/decreased the closer/further the lander is to the landing pad.\n",
    "- is increased/decreased the slower/faster the lander is moving.\n",
    "- is decreased the more the lander is tilted (angle not horizontal).\n",
    "- is increased by 10 points for each leg that is in contact with the ground.\n",
    "- is decreased by 0.03 points each frame a side engine is firing.\n",
    "- is decreased by 0.3 points each frame the main engine is firing.\n",
    "\n",
    "The episode receives an additional reward of -100 or +100 points for crashing or landing safely respectively.\n",
    "\n",
    "<a name=\"3.4\"></a>\n",
    "### 3.4 Episode Termination\n",
    "\n",
    "An episode ends (i.e the environment enters a terminal state) if:\n",
    "\n",
    "* The lunar lander crashes (i.e if the body of the lunar lander comes in contact with the surface of the moon).\n",
    "\n",
    "* The absolute value of the lander's $x$-coordinate is greater than 1 (i.e. it goes beyond the left or right border)\n",
    "\n",
    "You can check out the [Open AI Gym documentation](https://www.gymlibrary.dev/environments/box2d/lunar_lander/) for a full description of the environment. "
   ]
  },
  {
   "cell_type": "markdown",
   "metadata": {},
   "source": [
    "<a name=\"4\"></a>\n",
    "## 4 - Load the Environment\n",
    "\n",
    "We start by loading the `LunarLander-v2` environment from the `gym` library by using the `.make()` method. `LunarLander-v2` is the latest version of the Lunar Lander environment and you can read about its version history in the [Open AI Gym documentation](https://www.gymlibrary.dev/environments/box2d/lunar_lander/#version-history)."
   ]
  },
  {
   "cell_type": "code",
   "execution_count": 10,
   "metadata": {
    "deletable": false,
    "editable": false,
    "id": "ILVMYKewfR0n"
   },
   "outputs": [],
   "source": [
    "env = gym.make('LunarLander-v2')"
   ]
  },
  {
   "cell_type": "markdown",
   "metadata": {},
   "source": [
    "Once we load the environment we use the `.reset()` method to reset the environment to the initial state. The lander starts at the top center of the environment and we can render the first frame of the environment by using the `.render()` method."
   ]
  },
  {
   "cell_type": "code",
   "execution_count": 11,
   "metadata": {
    "deletable": false,
    "editable": false
   },
   "outputs": [
    {
     "data": {
      "image/png": "[encoded data removed]",
      "text/plain": [
       "<PIL.Image.Image image mode=RGB size=600x400 at 0x772B7482A1D0>"
      ]
     },
     "execution_count": 11,
     "metadata": {},
     "output_type": "execute_result"
    }
   ],
   "source": [
    "env.reset()\n",
    "PIL.Image.fromarray(env.render(mode='rgb_array'))"
   ]
  },
  {
   "cell_type": "markdown",
   "metadata": {},
   "source": [
    "In order to build our neural network later on we need to know the size of the state vector and the number of valid actions. We can get this information from our environment by using the `.observation_space.shape` and `action_space.n` methods, respectively."
   ]
  },
  {
   "cell_type": "code",
   "execution_count": 12,
   "metadata": {
    "deletable": false,
    "editable": false,
    "id": "x3fdqdG4CUu2"
   },
   "outputs": [
    {
     "name": "stdout",
     "output_type": "stream",
     "text": [
      "State Shape: (8,)\n",
      "Number of actions: 4\n"
     ]
    }
   ],
   "source": [
    "state_size = env.observation_space.shape\n",
    "num_actions = env.action_space.n\n",
    "\n",
    "print('State Shape:', state_size)\n",
    "print('Number of actions:', num_actions)"
   ]
  },
  {
   "cell_type": "markdown",
   "metadata": {},
   "source": [
    "<a name=\"5\"></a>\n",
    "## 5 - Interacting with the Gym Environment\n",
    "\n",
    "The Gym library implements the standard “agent-environment loop” formalism:\n",
    "\n",
    "<br>\n",
    "<center>\n",
    "<video src = \"./videos/rl_formalism.m4v\" width=\"840\" height=\"480\" controls autoplay loop poster=\"./images/rl_formalism.png\"> </video>\n",
    "<figcaption style = \"text-align:center; font-style:italic\">Fig 2. Agent-environment Loop Formalism.</figcaption>\n",
    "</center>\n",
    "<br>\n",
    "\n",
    "In the standard “agent-environment loop” formalism, an agent interacts with the environment in discrete time steps $t=0,1,2,...$. At each time step $t$, the agent uses a policy $\\pi$ to select an action $A_t$ based on its observation of the environment's state $S_t$. The agent receives a numerical reward $R_t$ and on the next time step, moves to a new state $S_{t+1}$.\n",
    "\n",
    "<a name=\"5.1\"></a>\n",
    "### 5.1 Exploring the Environment's Dynamics\n",
    "\n",
    "In Open AI's Gym environments, we use the `.step()` method to run a single time step of the environment's dynamics. In the version of `gym` that we are using the `.step()` method accepts an action and returns four values:\n",
    "\n",
    "* `observation` (**object**): an environment-specific object representing your observation of the environment. In the Lunar Lander environment this corresponds to a numpy array containing the positions and velocities of the lander as described in section [3.2 Observation Space](#3.2).\n",
    "\n",
    "\n",
    "* `reward` (**float**): amount of reward returned as a result of taking the given action. In the Lunar Lander environment this corresponds to a float of type `numpy.float64` as described in section [3.3 Rewards](#3.3).\n",
    "\n",
    "\n",
    "* `done` (**boolean**): When done is `True`, it indicates the episode has terminated and it’s time to reset the environment. \n",
    "\n",
    "\n",
    "* `info` (**dictionary**): diagnostic information useful for debugging. We won't be using this variable in this notebook but it is shown here for completeness.\n",
    "\n",
    "To begin an episode, we need to reset the environment to an initial state. We do this by using the `.reset()` method. "
   ]
  },
  {
   "cell_type": "code",
   "execution_count": 14,
   "metadata": {
    "deletable": false,
    "editable": false
   },
   "outputs": [],
   "source": [
    "# Reset the environment and get the initial state.\n",
    "current_state = env.reset()"
   ]
  },
  {
   "cell_type": "markdown",
   "metadata": {},
   "source": [
    "Once the environment is reset, the agent can start taking actions in the environment by using the `.step()` method. Note that the agent can only take one action per time step. \n",
    "\n",
    "In the cell below you can select different actions and see how the returned values change depending on the action taken. Remember that in this environment the agent has four discrete actions available and we specify them in code by using their corresponding numerical value:\n",
    "\n",
    "```python\n",
    "Do nothing = 0\n",
    "Fire right engine = 1\n",
    "Fire main engine = 2\n",
    "Fire left engine = 3\n",
    "```"
   ]
  },
  {
   "cell_type": "code",
   "execution_count": 18,
   "metadata": {
    "deletable": false
   },
   "outputs": [
    {
     "data": {
      "text/html": [
       "<style  type=\"text/css\" >\n",
       "    #T_6fb42662_20fb_11ef_ad12_0242ac120080 th {\n",
       "          border: 1px solid grey;\n",
       "          text-align: center;\n",
       "    }    #T_6fb42662_20fb_11ef_ad12_0242ac120080 tbody td {\n",
       "          border: 1px solid grey;\n",
       "          text-align: center;\n",
       "    }    #T_6fb42662_20fb_11ef_ad12_0242ac120080row0_col0 {\n",
       "            background-color :  grey;\n",
       "        }    #T_6fb42662_20fb_11ef_ad12_0242ac120080row1_col1 {\n",
       "            background-color :  grey;\n",
       "        }    #T_6fb42662_20fb_11ef_ad12_0242ac120080row1_col2 {\n",
       "            background-color :  grey;\n",
       "        }    #T_6fb42662_20fb_11ef_ad12_0242ac120080row1_col3 {\n",
       "            background-color :  grey;\n",
       "        }    #T_6fb42662_20fb_11ef_ad12_0242ac120080row1_col4 {\n",
       "            background-color :  grey;\n",
       "        }    #T_6fb42662_20fb_11ef_ad12_0242ac120080row1_col5 {\n",
       "            background-color :  grey;\n",
       "        }    #T_6fb42662_20fb_11ef_ad12_0242ac120080row1_col6 {\n",
       "            background-color :  grey;\n",
       "        }    #T_6fb42662_20fb_11ef_ad12_0242ac120080row1_col7 {\n",
       "            background-color :  grey;\n",
       "        }    #T_6fb42662_20fb_11ef_ad12_0242ac120080row1_col8 {\n",
       "            background-color :  grey;\n",
       "        }    #T_6fb42662_20fb_11ef_ad12_0242ac120080row1_col9 {\n",
       "            background-color :  grey;\n",
       "        }    #T_6fb42662_20fb_11ef_ad12_0242ac120080row1_col10 {\n",
       "            background-color :  grey;\n",
       "        }    #T_6fb42662_20fb_11ef_ad12_0242ac120080row1_col11 {\n",
       "            background-color :  grey;\n",
       "        }    #T_6fb42662_20fb_11ef_ad12_0242ac120080row2_col0 {\n",
       "            background-color :  grey;\n",
       "        }    #T_6fb42662_20fb_11ef_ad12_0242ac120080row3_col1 {\n",
       "            background-color :  grey;\n",
       "        }    #T_6fb42662_20fb_11ef_ad12_0242ac120080row3_col2 {\n",
       "            background-color :  grey;\n",
       "        }    #T_6fb42662_20fb_11ef_ad12_0242ac120080row3_col3 {\n",
       "            background-color :  grey;\n",
       "        }    #T_6fb42662_20fb_11ef_ad12_0242ac120080row3_col4 {\n",
       "            background-color :  grey;\n",
       "        }    #T_6fb42662_20fb_11ef_ad12_0242ac120080row3_col5 {\n",
       "            background-color :  grey;\n",
       "        }    #T_6fb42662_20fb_11ef_ad12_0242ac120080row3_col6 {\n",
       "            background-color :  grey;\n",
       "        }    #T_6fb42662_20fb_11ef_ad12_0242ac120080row3_col7 {\n",
       "            background-color :  grey;\n",
       "        }    #T_6fb42662_20fb_11ef_ad12_0242ac120080row3_col8 {\n",
       "            background-color :  grey;\n",
       "        }    #T_6fb42662_20fb_11ef_ad12_0242ac120080row3_col9 {\n",
       "            background-color :  grey;\n",
       "        }    #T_6fb42662_20fb_11ef_ad12_0242ac120080row3_col10 {\n",
       "            background-color :  grey;\n",
       "        }    #T_6fb42662_20fb_11ef_ad12_0242ac120080row3_col11 {\n",
       "            background-color :  grey;\n",
       "        }    #T_6fb42662_20fb_11ef_ad12_0242ac120080row4_col1 {\n",
       "            background-color :  grey;\n",
       "        }    #T_6fb42662_20fb_11ef_ad12_0242ac120080row4_col2 {\n",
       "            background-color :  grey;\n",
       "        }    #T_6fb42662_20fb_11ef_ad12_0242ac120080row4_col3 {\n",
       "            background-color :  grey;\n",
       "        }    #T_6fb42662_20fb_11ef_ad12_0242ac120080row4_col4 {\n",
       "            background-color :  grey;\n",
       "        }    #T_6fb42662_20fb_11ef_ad12_0242ac120080row4_col5 {\n",
       "            background-color :  grey;\n",
       "        }    #T_6fb42662_20fb_11ef_ad12_0242ac120080row4_col6 {\n",
       "            background-color :  grey;\n",
       "        }    #T_6fb42662_20fb_11ef_ad12_0242ac120080row4_col7 {\n",
       "            background-color :  grey;\n",
       "        }    #T_6fb42662_20fb_11ef_ad12_0242ac120080row4_col8 {\n",
       "            background-color :  grey;\n",
       "        }    #T_6fb42662_20fb_11ef_ad12_0242ac120080row4_col9 {\n",
       "            background-color :  grey;\n",
       "        }    #T_6fb42662_20fb_11ef_ad12_0242ac120080row4_col10 {\n",
       "            background-color :  grey;\n",
       "        }    #T_6fb42662_20fb_11ef_ad12_0242ac120080row4_col11 {\n",
       "            background-color :  grey;\n",
       "        }</style><table id=\"T_6fb42662_20fb_11ef_ad12_0242ac120080\" ><thead>    <tr>        <th class=\"blank level0\" ></th>        <th class=\"col_heading level0 col0\" ></th>        <th class=\"col_heading level0 col1\" colspan=8>State Vector</th>        <th class=\"col_heading level0 col9\" colspan=3>Derived from the State Vector (the closer to zero, the better)</th>    </tr>    <tr>        <th class=\"blank level1\" ></th>        <th class=\"col_heading level1 col0\" ></th>        <th class=\"col_heading level1 col1\" colspan=2>Coordinate</th>        <th class=\"col_heading level1 col3\" colspan=2>Velocity</th>        <th class=\"col_heading level1 col5\" colspan=2>Tilting</th>        <th class=\"col_heading level1 col7\" colspan=2>Ground contact</th>        <th class=\"col_heading level1 col9\" >Distance from landing pad</th>        <th class=\"col_heading level1 col10\" >Velocity</th>        <th class=\"col_heading level1 col11\" >Tilting Angle (absolute value)</th>    </tr>    <tr>        <th class=\"blank level2\" ></th>        <th class=\"col_heading level2 col0\" ></th>        <th class=\"col_heading level2 col1\" >X (Horizontal)</th>        <th class=\"col_heading level2 col2\" >Y (Vertical)</th>        <th class=\"col_heading level2 col3\" >X (Horizontal)</th>        <th class=\"col_heading level2 col4\" >Y (Vertical)</th>        <th class=\"col_heading level2 col5\" >Angle</th>        <th class=\"col_heading level2 col6\" >Angular Velocity</th>        <th class=\"col_heading level2 col7\" >Left Leg?</th>        <th class=\"col_heading level2 col8\" >Right Leg?</th>        <th class=\"col_heading level2 col9\" ></th>        <th class=\"col_heading level2 col10\" ></th>        <th class=\"col_heading level2 col11\" ></th>    </tr></thead><tbody>\n",
       "                <tr>\n",
       "                        <th id=\"T_6fb42662_20fb_11ef_ad12_0242ac120080level0_row0\" class=\"row_heading level0 row0\" >Current State</th>\n",
       "                        <td id=\"T_6fb42662_20fb_11ef_ad12_0242ac120080row0_col0\" class=\"data row0 col0\" ></td>\n",
       "                        <td id=\"T_6fb42662_20fb_11ef_ad12_0242ac120080row0_col1\" class=\"data row0 col1\" >-0.031243</td>\n",
       "                        <td id=\"T_6fb42662_20fb_11ef_ad12_0242ac120080row0_col2\" class=\"data row0 col2\" >1.441233</td>\n",
       "                        <td id=\"T_6fb42662_20fb_11ef_ad12_0242ac120080row0_col3\" class=\"data row0 col3\" >-0.803295</td>\n",
       "                        <td id=\"T_6fb42662_20fb_11ef_ad12_0242ac120080row0_col4\" class=\"data row0 col4\" >0.331215</td>\n",
       "                        <td id=\"T_6fb42662_20fb_11ef_ad12_0242ac120080row0_col5\" class=\"data row0 col5\" >0.038171</td>\n",
       "                        <td id=\"T_6fb42662_20fb_11ef_ad12_0242ac120080row0_col6\" class=\"data row0 col6\" >0.199320</td>\n",
       "                        <td id=\"T_6fb42662_20fb_11ef_ad12_0242ac120080row0_col7\" class=\"data row0 col7\" >False</td>\n",
       "                        <td id=\"T_6fb42662_20fb_11ef_ad12_0242ac120080row0_col8\" class=\"data row0 col8\" >False</td>\n",
       "                        <td id=\"T_6fb42662_20fb_11ef_ad12_0242ac120080row0_col9\" class=\"data row0 col9\" >1.441572</td>\n",
       "                        <td id=\"T_6fb42662_20fb_11ef_ad12_0242ac120080row0_col10\" class=\"data row0 col10\" >0.868899</td>\n",
       "                        <td id=\"T_6fb42662_20fb_11ef_ad12_0242ac120080row0_col11\" class=\"data row0 col11\" >0.038171</td>\n",
       "            </tr>\n",
       "            <tr>\n",
       "                        <th id=\"T_6fb42662_20fb_11ef_ad12_0242ac120080level0_row1\" class=\"row_heading level0 row1\" >Action</th>\n",
       "                        <td id=\"T_6fb42662_20fb_11ef_ad12_0242ac120080row1_col0\" class=\"data row1 col0\" >Fire left engine</td>\n",
       "                        <td id=\"T_6fb42662_20fb_11ef_ad12_0242ac120080row1_col1\" class=\"data row1 col1\" ></td>\n",
       "                        <td id=\"T_6fb42662_20fb_11ef_ad12_0242ac120080row1_col2\" class=\"data row1 col2\" ></td>\n",
       "                        <td id=\"T_6fb42662_20fb_11ef_ad12_0242ac120080row1_col3\" class=\"data row1 col3\" ></td>\n",
       "                        <td id=\"T_6fb42662_20fb_11ef_ad12_0242ac120080row1_col4\" class=\"data row1 col4\" ></td>\n",
       "                        <td id=\"T_6fb42662_20fb_11ef_ad12_0242ac120080row1_col5\" class=\"data row1 col5\" ></td>\n",
       "                        <td id=\"T_6fb42662_20fb_11ef_ad12_0242ac120080row1_col6\" class=\"data row1 col6\" ></td>\n",
       "                        <td id=\"T_6fb42662_20fb_11ef_ad12_0242ac120080row1_col7\" class=\"data row1 col7\" ></td>\n",
       "                        <td id=\"T_6fb42662_20fb_11ef_ad12_0242ac120080row1_col8\" class=\"data row1 col8\" ></td>\n",
       "                        <td id=\"T_6fb42662_20fb_11ef_ad12_0242ac120080row1_col9\" class=\"data row1 col9\" ></td>\n",
       "                        <td id=\"T_6fb42662_20fb_11ef_ad12_0242ac120080row1_col10\" class=\"data row1 col10\" ></td>\n",
       "                        <td id=\"T_6fb42662_20fb_11ef_ad12_0242ac120080row1_col11\" class=\"data row1 col11\" ></td>\n",
       "            </tr>\n",
       "            <tr>\n",
       "                        <th id=\"T_6fb42662_20fb_11ef_ad12_0242ac120080level0_row2\" class=\"row_heading level0 row2\" >Next State</th>\n",
       "                        <td id=\"T_6fb42662_20fb_11ef_ad12_0242ac120080row2_col0\" class=\"data row2 col0\" ></td>\n",
       "                        <td id=\"T_6fb42662_20fb_11ef_ad12_0242ac120080row2_col1\" class=\"data row2 col1\" >-0.039081</td>\n",
       "                        <td id=\"T_6fb42662_20fb_11ef_ad12_0242ac120080row2_col2\" class=\"data row2 col2\" >1.448105</td>\n",
       "                        <td id=\"T_6fb42662_20fb_11ef_ad12_0242ac120080row2_col3\" class=\"data row2 col3\" >-0.791394</td>\n",
       "                        <td id=\"T_6fb42662_20fb_11ef_ad12_0242ac120080row2_col4\" class=\"data row2 col4\" >0.305160</td>\n",
       "                        <td id=\"T_6fb42662_20fb_11ef_ad12_0242ac120080row2_col5\" class=\"data row2 col5\" >0.045735</td>\n",
       "                        <td id=\"T_6fb42662_20fb_11ef_ad12_0242ac120080row2_col6\" class=\"data row2 col6\" >0.151308</td>\n",
       "                        <td id=\"T_6fb42662_20fb_11ef_ad12_0242ac120080row2_col7\" class=\"data row2 col7\" >False</td>\n",
       "                        <td id=\"T_6fb42662_20fb_11ef_ad12_0242ac120080row2_col8\" class=\"data row2 col8\" >False</td>\n",
       "                        <td id=\"T_6fb42662_20fb_11ef_ad12_0242ac120080row2_col9\" class=\"data row2 col9\" >1.448632</td>\n",
       "                        <td id=\"T_6fb42662_20fb_11ef_ad12_0242ac120080row2_col10\" class=\"data row2 col10\" >0.848190</td>\n",
       "                        <td id=\"T_6fb42662_20fb_11ef_ad12_0242ac120080row2_col11\" class=\"data row2 col11\" >0.045735</td>\n",
       "            </tr>\n",
       "            <tr>\n",
       "                        <th id=\"T_6fb42662_20fb_11ef_ad12_0242ac120080level0_row3\" class=\"row_heading level0 row3\" >Reward</th>\n",
       "                        <td id=\"T_6fb42662_20fb_11ef_ad12_0242ac120080row3_col0\" class=\"data row3 col0\" >0.578458</td>\n",
       "                        <td id=\"T_6fb42662_20fb_11ef_ad12_0242ac120080row3_col1\" class=\"data row3 col1\" ></td>\n",
       "                        <td id=\"T_6fb42662_20fb_11ef_ad12_0242ac120080row3_col2\" class=\"data row3 col2\" ></td>\n",
       "                        <td id=\"T_6fb42662_20fb_11ef_ad12_0242ac120080row3_col3\" class=\"data row3 col3\" ></td>\n",
       "                        <td id=\"T_6fb42662_20fb_11ef_ad12_0242ac120080row3_col4\" class=\"data row3 col4\" ></td>\n",
       "                        <td id=\"T_6fb42662_20fb_11ef_ad12_0242ac120080row3_col5\" class=\"data row3 col5\" ></td>\n",
       "                        <td id=\"T_6fb42662_20fb_11ef_ad12_0242ac120080row3_col6\" class=\"data row3 col6\" ></td>\n",
       "                        <td id=\"T_6fb42662_20fb_11ef_ad12_0242ac120080row3_col7\" class=\"data row3 col7\" ></td>\n",
       "                        <td id=\"T_6fb42662_20fb_11ef_ad12_0242ac120080row3_col8\" class=\"data row3 col8\" ></td>\n",
       "                        <td id=\"T_6fb42662_20fb_11ef_ad12_0242ac120080row3_col9\" class=\"data row3 col9\" ></td>\n",
       "                        <td id=\"T_6fb42662_20fb_11ef_ad12_0242ac120080row3_col10\" class=\"data row3 col10\" ></td>\n",
       "                        <td id=\"T_6fb42662_20fb_11ef_ad12_0242ac120080row3_col11\" class=\"data row3 col11\" ></td>\n",
       "            </tr>\n",
       "            <tr>\n",
       "                        <th id=\"T_6fb42662_20fb_11ef_ad12_0242ac120080level0_row4\" class=\"row_heading level0 row4\" >Episode Terminated</th>\n",
       "                        <td id=\"T_6fb42662_20fb_11ef_ad12_0242ac120080row4_col0\" class=\"data row4 col0\" >False</td>\n",
       "                        <td id=\"T_6fb42662_20fb_11ef_ad12_0242ac120080row4_col1\" class=\"data row4 col1\" ></td>\n",
       "                        <td id=\"T_6fb42662_20fb_11ef_ad12_0242ac120080row4_col2\" class=\"data row4 col2\" ></td>\n",
       "                        <td id=\"T_6fb42662_20fb_11ef_ad12_0242ac120080row4_col3\" class=\"data row4 col3\" ></td>\n",
       "                        <td id=\"T_6fb42662_20fb_11ef_ad12_0242ac120080row4_col4\" class=\"data row4 col4\" ></td>\n",
       "                        <td id=\"T_6fb42662_20fb_11ef_ad12_0242ac120080row4_col5\" class=\"data row4 col5\" ></td>\n",
       "                        <td id=\"T_6fb42662_20fb_11ef_ad12_0242ac120080row4_col6\" class=\"data row4 col6\" ></td>\n",
       "                        <td id=\"T_6fb42662_20fb_11ef_ad12_0242ac120080row4_col7\" class=\"data row4 col7\" ></td>\n",
       "                        <td id=\"T_6fb42662_20fb_11ef_ad12_0242ac120080row4_col8\" class=\"data row4 col8\" ></td>\n",
       "                        <td id=\"T_6fb42662_20fb_11ef_ad12_0242ac120080row4_col9\" class=\"data row4 col9\" ></td>\n",
       "                        <td id=\"T_6fb42662_20fb_11ef_ad12_0242ac120080row4_col10\" class=\"data row4 col10\" ></td>\n",
       "                        <td id=\"T_6fb42662_20fb_11ef_ad12_0242ac120080row4_col11\" class=\"data row4 col11\" ></td>\n",
       "            </tr>\n",
       "    </tbody></table>"
      ],
      "text/plain": [
       "<pandas.io.formats.style.Styler at 0x772b74831650>"
      ]
     },
     "metadata": {},
     "output_type": "display_data"
    }
   ],
   "source": [
    "# Select an action\n",
    "action = 3\n",
    "\n",
    "# Run a single time step of the environment's dynamics with the given action.\n",
    "next_state, reward, done, _ = env.step(action)\n",
    "\n",
    "# Display table with values.\n",
    "utils.display_table(current_state, action, next_state, reward, done)\n",
    "\n",
    "# Replace the `current_state` with the state after the action is taken\n",
    "current_state = next_state"
   ]
  },
  {
   "cell_type": "markdown",
   "metadata": {},
   "source": [
    "In practice, when we train the agent we use a loop to allow the agent to take many consecutive actions during an episode."
   ]
  },
  {
   "cell_type": "markdown",
   "metadata": {},
   "source": [
    "<a name=\"6\"></a>\n",
    "## 6 - Deep Q-Learning\n",
    "\n",
    "In cases where both the state and action space are discrete we can estimate the action-value function iteratively by using the Bellman equation:\n",
    "\n",
    "$$\n",
    "Q_{i+1}(s,a) = R + \\gamma \\max_{a'}Q_i(s',a')\n",
    "$$\n",
    "\n",
    "This iterative method converges to the optimal action-value function $Q^*(s,a)$ as $i\\to\\infty$. This means that the agent just needs to gradually explore the state-action space and keep updating the estimate of $Q(s,a)$ until it converges to the optimal action-value function $Q^*(s,a)$. However, in cases where the state space is continuous it becomes practically impossible to explore the entire state-action space. Consequently, this also makes it practically impossible to gradually estimate $Q(s,a)$ until it converges to $Q^*(s,a)$.\n",
    "\n",
    "In the Deep $Q$-Learning, we solve this problem by using a neural network to estimate the action-value function $Q(s,a)\\approx Q^*(s,a)$. We call this neural network a $Q$-Network and it can be trained by adjusting its weights at each iteration to minimize the mean-squared error in the Bellman equation.\n",
    "\n",
    "Unfortunately, using neural networks in reinforcement learning to estimate action-value functions has proven to be highly unstable. Luckily, there's a couple of techniques that can be employed to avoid instabilities. These techniques consist of using a ***Target Network*** and ***Experience Replay***. We will explore these two techniques in the following sections."
   ]
  },
  {
   "cell_type": "markdown",
   "metadata": {},
   "source": [
    "<a name=\"6.1\"></a>\n",
    "### 6.1 Target Network\n",
    "\n",
    "We can train the $Q$-Network by adjusting it's weights at each iteration to minimize the mean-squared error in the Bellman equation, where the target values are given by:\n",
    "\n",
    "$$\n",
    "y = R + \\gamma \\max_{a'}Q(s',a';w)\n",
    "$$\n",
    "\n",
    "where $w$ are the weights of the $Q$-Network. This means that we are adjusting the weights $w$ at each iteration to minimize the following error:\n",
    "\n",
    "$$\n",
    "\\overbrace{\\underbrace{R + \\gamma \\max_{a'}Q(s',a'; w)}_{\\rm {y~target}} - Q(s,a;w)}^{\\rm {Error}}\n",
    "$$\n",
    "\n",
    "Notice that this forms a problem because the $y$ target is changing on every iteration. Having a constantly moving target can lead to oscillations and instabilities. To avoid this, we can create\n",
    "a separate neural network for generating the $y$ targets. We call this separate neural network the **target $\\hat Q$-Network** and it will have the same architecture as the original $Q$-Network. By using the target $\\hat Q$-Network, the above error becomes:\n",
    "\n",
    "$$\n",
    "\\overbrace{\\underbrace{R + \\gamma \\max_{a'}\\hat{Q}(s',a'; w^-)}_{\\rm {y~target}} - Q(s,a;w)}^{\\rm {Error}}\n",
    "$$\n",
    "\n",
    "where $w^-$ and $w$ are the weights of the target $\\hat Q$-Network and $Q$-Network, respectively.\n",
    "\n",
    "In practice, we will use the following algorithm: every $C$ time steps we will use the $\\hat Q$-Network to generate the $y$ targets and update the weights of the target $\\hat Q$-Network using the weights of the $Q$-Network. We will update the weights $w^-$ of the the target $\\hat Q$-Network using a **soft update**. This means that we will update the weights $w^-$ using the following rule:\n",
    " \n",
    "$$\n",
    "w^-\\leftarrow \\tau w + (1 - \\tau) w^-\n",
    "$$\n",
    "\n",
    "where $\\tau\\ll 1$. By using the soft update, we are ensuring that the target values, $y$, change slowly, which greatly improves the stability of our learning algorithm."
   ]
  },
  {
   "cell_type": "markdown",
   "metadata": {},
   "source": [
    "<a name=\"ex01\"></a>\n",
    "### Exercise 1\n",
    "\n",
    "In this exercise you will create the $Q$ and target $\\hat Q$ networks and set the optimizer. Remember that the Deep $Q$-Network (DQN) is a neural network that approximates the action-value function $Q(s,a)\\approx Q^*(s,a)$. It does this by learning how to map states to $Q$ values.\n",
    "\n",
    "To solve the Lunar Lander environment, we are going to employ a DQN with the following architecture:\n",
    "\n",
    "* An `Input` layer that takes `state_size` as input.\n",
    "\n",
    "* A `Dense` layer with `64` units and a `relu` activation function.\n",
    "\n",
    "* A `Dense` layer with `64` units and a `relu` activation function.\n",
    "\n",
    "* A `Dense` layer with `num_actions` units and a `linear` activation function. This will be the output layer of our network.\n",
    "\n",
    "\n",
    "In the cell below you should create the $Q$-Network and the target $\\hat Q$-Network using the model architecture described above. Remember that both the $Q$-Network and the target $\\hat Q$-Network have the same architecture.\n",
    "\n",
    "Lastly, you should set `Adam` as the optimizer with a learning rate equal to `ALPHA`. Recall that `ALPHA` was defined in the [Hyperparameters](#2) section. We should note that for this exercise you should use the already imported packages:\n",
    "```python\n",
    "from tensorflow.keras.layers import Dense, Input\n",
    "from tensorflow.keras.optimizers import Adam\n",
    "```"
   ]
  },
  {
   "cell_type": "code",
   "execution_count": 19,
   "metadata": {
    "deletable": false
   },
   "outputs": [],
   "source": [
    "# UNQ_C1\n",
    "# GRADED CELL\n",
    "\n",
    "# Create the Q-Network\n",
    "q_network = Sequential([\n",
    "    ### START CODE HERE ### \n",
    "    Input(state_size),\n",
    "    Dense(64, activation='relu'),\n",
    "    Dense(64, activation='relu'),\n",
    "    Dense(num_actions, activation='linear'),\n",
    "    ### END CODE HERE ### \n",
    "    ])\n",
    "\n",
    "# Create the target Q^-Network\n",
    "target_q_network = Sequential([\n",
    "    ### START CODE HERE ### \n",
    "    Input(state_size),\n",
    "    Dense(64, activation='relu'),\n",
    "    Dense(64, activation='relu'),\n",
    "    Dense(num_actions, activation='linear'),\n",
    "    ### END CODE HERE ###\n",
    "    ])\n",
    "\n",
    "### START CODE HERE ### \n",
    "optimizer = tf.keras.optimizers.Adam(learning_rate=ALPHA)\n",
    "### END CODE HERE ###"
   ]
  },
  {
   "cell_type": "code",
   "execution_count": 20,
   "metadata": {
    "deletable": false,
    "editable": false
   },
   "outputs": [
    {
     "name": "stdout",
     "output_type": "stream",
     "text": [
      "\u001b[92mAll tests passed!\n",
      "\u001b[92mAll tests passed!\n",
      "\u001b[92mAll tests passed!\n"
     ]
    }
   ],
   "source": [
    "# UNIT TEST\n",
    "from public_tests import *\n",
    "\n",
    "test_network(q_network)\n",
    "test_network(target_q_network)\n",
    "test_optimizer(optimizer, ALPHA) "
   ]
  },
  {
   "cell_type": "markdown",
   "metadata": {},
   "source": [
    "<details>\n",
    "  <summary><font size=\"3\" color=\"darkgreen\"><b>Click for hints</b></font></summary>\n",
    "    \n",
    "```python\n",
    "# Create the Q-Network\n",
    "q_network = Sequential([\n",
    "    Input(shape=state_size),                      \n",
    "    Dense(units=64, activation='relu'),            \n",
    "    Dense(units=64, activation='relu'),            \n",
    "    Dense(units=num_actions, activation='linear'),\n",
    "    ])\n",
    "\n",
    "# Create the target Q^-Network\n",
    "target_q_network = Sequential([\n",
    "    Input(shape=state_size),                       \n",
    "    Dense(units=64, activation='relu'),            \n",
    "    Dense(units=64, activation='relu'),            \n",
    "    Dense(units=num_actions, activation='linear'), \n",
    "    ])\n",
    "\n",
    "optimizer = Adam(learning_rate=ALPHA)                                  \n",
    "``` "
   ]
  },
  {
   "cell_type": "markdown",
   "metadata": {},
   "source": [
    "<a name=\"6.2\"></a>\n",
    "### 6.2 Experience Replay\n",
    "\n",
    "When an agent interacts with the environment, the states, actions, and rewards the agent experiences are sequential by nature. If the agent tries to learn from these consecutive experiences it can run into problems due to the strong correlations between them. To avoid this, we employ a technique known as **Experience Replay** to generate uncorrelated experiences for training our agent. Experience replay consists of storing the agent's experiences (i.e the states, actions, and rewards the agent receives) in a memory buffer and then sampling a random mini-batch of experiences from the buffer to do the learning. The experience tuples $(S_t, A_t, R_t, S_{t+1})$ will be added to the memory buffer at each time step as the agent interacts with the environment.\n",
    "\n",
    "For convenience, we will store the experiences as named tuples."
   ]
  },
  {
   "cell_type": "code",
   "execution_count": 21,
   "metadata": {
    "deletable": false,
    "editable": false
   },
   "outputs": [],
   "source": [
    "# Store experiences as named tuples\n",
    "experience = namedtuple(\"Experience\", field_names=[\"state\", \"action\", \"reward\", \"next_state\", \"done\"])"
   ]
  },
  {
   "cell_type": "markdown",
   "metadata": {},
   "source": [
    "By using experience replay we avoid problematic correlations, oscillations and instabilities. In addition, experience replay also allows the agent to potentially use the same experience in multiple weight updates, which increases data efficiency."
   ]
  },
  {
   "cell_type": "markdown",
   "metadata": {},
   "source": [
    "<a name=\"7\"></a>\n",
    "## 7 - Deep Q-Learning Algorithm with Experience Replay\n",
    "\n",
    "Now that we know all the techniques that we are going to use, we can put them together to arrive at the Deep Q-Learning Algorithm With Experience Replay.\n",
    "<br>\n",
    "<br>\n",
    "<figure>\n",
    "  <img src = \"images/deep_q_algorithm.png\" width = 90% style = \"border: thin silver solid; padding: 0px\">\n",
    "      <figcaption style = \"text-align: center; font-style: italic\">Fig 3. Deep Q-Learning with Experience Replay.</figcaption>\n",
    "</figure>"
   ]
  },
  {
   "cell_type": "markdown",
   "metadata": {},
   "source": [
    "<a name=\"ex02\"></a>\n",
    "### Exercise 2\n",
    "\n",
    "In this exercise you will implement line ***12*** of the algorithm outlined in *Fig 3* above and you will also compute the loss between the $y$ targets and the $Q(s,a)$ values. In the cell below, complete the `compute_loss` function by setting the $y$ targets equal to:\n",
    "\n",
    "$$\n",
    "\\begin{equation}\n",
    "    y_j =\n",
    "    \\begin{cases}\n",
    "      R_j & \\text{if episode terminates at step  } j+1\\\\\n",
    "      R_j + \\gamma \\max_{a'}\\hat{Q}(s_{j+1},a') & \\text{otherwise}\\\\\n",
    "    \\end{cases}       \n",
    "\\end{equation}\n",
    "$$\n",
    "\n",
    "Here are a couple of things to note:\n",
    "\n",
    "* The `compute_loss` function takes in a mini-batch of experience tuples. This mini-batch of experience tuples is unpacked to extract the `states`, `actions`, `rewards`, `next_states`, and `done_vals`. You should keep in mind that these variables are *TensorFlow Tensors* whose size will depend on the mini-batch size. For example, if the mini-batch size is `64` then both `rewards` and `done_vals` will be TensorFlow Tensors with `64` elements.\n",
    "\n",
    "\n",
    "* Using `if/else` statements to set the $y$ targets will not work when the variables are tensors with many elements. However, notice that you can use the `done_vals` to implement the above in a single line of code. To do this, recall that the `done` variable is a Boolean variable that takes the value `True` when an episode terminates at step $j+1$ and it is `False` otherwise. Taking into account that a Boolean value of `True` has the numerical value of `1` and a Boolean value of `False` has the numerical value of `0`, you can use the factor `(1 - done_vals)` to implement the above in a single line of code. Here's a hint: notice that `(1 - done_vals)` has a value of `0` when `done_vals` is `True` and a value of `1` when `done_vals` is `False`. \n",
    "\n",
    "Lastly, compute the loss by calculating the Mean-Squared Error (`MSE`) between the `y_targets` and the `q_values`. To calculate the mean-squared error you should use the already imported package `MSE`:\n",
    "```python\n",
    "from tensorflow.keras.losses import MSE\n",
    "```"
   ]
  },
  {
   "cell_type": "code",
   "execution_count": 24,
   "metadata": {
    "deletable": false
   },
   "outputs": [],
   "source": [
    "# UNQ_C2\n",
    "# GRADED FUNCTION: calculate_loss\n",
    "\n",
    "def compute_loss(experiences, gamma, q_network, target_q_network):\n",
    "    \"\"\" \n",
    "    Calculates the loss.\n",
    "    \n",
    "    Args:\n",
    "      experiences: (tuple) tuple of [\"state\", \"action\", \"reward\", \"next_state\", \"done\"] namedtuples\n",
    "      gamma: (float) The discount factor.\n",
    "      q_network: (tf.keras.Sequential) Keras model for predicting the q_values\n",
    "      target_q_network: (tf.keras.Sequential) Keras model for predicting the targets\n",
    "          \n",
    "    Returns:\n",
    "      loss: (TensorFlow Tensor(shape=(0,), dtype=int32)) the Mean-Squared Error between\n",
    "            the y targets and the Q(s,a) values.\n",
    "    \"\"\"\n",
    "\n",
    "    # Unpack the mini-batch of experience tuples\n",
    "    states, actions, rewards, next_states, done_vals = experiences\n",
    "    \n",
    "    # Compute max Q^(s,a)\n",
    "    max_qsa = tf.reduce_max(target_q_network(next_states), axis=-1)\n",
    "    \n",
    "    # Set y = R if episode terminates, otherwise set y = R + γ max Q^(s,a).\n",
    "    ### START CODE HERE ### \n",
    "    # if it is done, done_vals = 1, hence y_targets = rewards.\n",
    "    # else, done_vals = 0, hence y_targets = R + γ max Q^(s,a).\n",
    "    y_targets = rewards + (gamma * max_qsa * (1 - done_vals))\n",
    "    ### END CODE HERE ###\n",
    "    \n",
    "    # Get the q_values and reshape to match y_targets\n",
    "    q_values = q_network(states)\n",
    "    q_values = tf.gather_nd(q_values, tf.stack([tf.range(q_values.shape[0]),\n",
    "                                                tf.cast(actions, tf.int32)], axis=1))\n",
    "        \n",
    "    # Compute the loss\n",
    "    ### START CODE HERE ### \n",
    "    loss = MSE(y_targets, q_values)\n",
    "    ### END CODE HERE ### \n",
    "    \n",
    "    return loss"
   ]
  },
  {
   "cell_type": "code",
   "execution_count": 25,
   "metadata": {
    "deletable": false,
    "editable": false
   },
   "outputs": [
    {
     "name": "stdout",
     "output_type": "stream",
     "text": [
      "\u001b[92mAll tests passed!\n"
     ]
    }
   ],
   "source": [
    "# UNIT TEST    \n",
    "test_compute_loss(compute_loss)"
   ]
  },
  {
   "cell_type": "markdown",
   "metadata": {},
   "source": [
    "<details>\n",
    "  <summary><font size=\"3\" color=\"darkgreen\"><b>Click for hints</b></font></summary>\n",
    "    \n",
    "```python\n",
    "def compute_loss(experiences, gamma, q_network, target_q_network):\n",
    "    \"\"\" \n",
    "    Calculates the loss.\n",
    "    \n",
    "    Args:\n",
    "      experiences: (tuple) tuple of [\"state\", \"action\", \"reward\", \"next_state\", \"done\"] namedtuples\n",
    "      gamma: (float) The discount factor.\n",
    "      q_network: (tf.keras.Sequential) Keras model for predicting the q_values\n",
    "      target_q_network: (tf.keras.Sequential) Keras model for predicting the targets\n",
    "          \n",
    "    Returns:\n",
    "      loss: (TensorFlow Tensor(shape=(0,), dtype=int32)) the Mean-Squared Error between\n",
    "            the y targets and the Q(s,a) values.\n",
    "    \"\"\"\n",
    "\n",
    "    \n",
    "    # Unpack the mini-batch of experience tuples\n",
    "    states, actions, rewards, next_states, done_vals = experiences\n",
    "    \n",
    "    # Compute max Q^(s,a)\n",
    "    max_qsa = tf.reduce_max(target_q_network(next_states), axis=-1)\n",
    "    \n",
    "    # Set y = R if episode terminates, otherwise set y = R + γ max Q^(s,a).\n",
    "    y_targets = rewards + (gamma * max_qsa * (1 - done_vals))\n",
    "    \n",
    "    # Get the q_values\n",
    "    q_values = q_network(states)\n",
    "    q_values = tf.gather_nd(q_values, tf.stack([tf.range(q_values.shape[0]),\n",
    "                                                tf.cast(actions, tf.int32)], axis=1))\n",
    "    \n",
    "    # Calculate the loss\n",
    "    loss = MSE(y_targets, q_values)\n",
    "    \n",
    "    return loss\n",
    "\n",
    "``` \n",
    "    "
   ]
  },
  {
   "cell_type": "markdown",
   "metadata": {},
   "source": [
    "<a name=\"8\"></a>\n",
    "## 8 - Update the Network Weights\n",
    "\n",
    "We will use the `agent_learn` function below to implement lines ***12 -14*** of the algorithm outlined in [Fig 3](#7). The `agent_learn` function will update the weights of the $Q$ and target $\\hat Q$ networks using a custom training loop. Because we are using a custom training loop we need to retrieve the gradients via a `tf.GradientTape` instance, and then call `optimizer.apply_gradients()` to update the weights of our $Q$-Network. Note that we are also using the `@tf.function` decorator to increase performance. Without this decorator our training will take twice as long. If you would like to know more about how to increase performance with `@tf.function` take a look at the [TensorFlow documentation](https://www.tensorflow.org/guide/function).\n",
    "\n",
    "The last line of this function updates the weights of the target $\\hat Q$-Network using a [soft update](#6.1). If you want to know how this is implemented in code we encourage you to take a look at the `utils.update_target_network` function in the `utils` module."
   ]
  },
  {
   "cell_type": "code",
   "execution_count": 26,
   "metadata": {
    "deletable": false,
    "editable": false
   },
   "outputs": [],
   "source": [
    "@tf.function\n",
    "def agent_learn(experiences, gamma):\n",
    "    \"\"\"\n",
    "    Updates the weights of the Q networks.\n",
    "    \n",
    "    Args:\n",
    "      experiences: (tuple) tuple of [\"state\", \"action\", \"reward\", \"next_state\", \"done\"] namedtuples\n",
    "      gamma: (float) The discount factor.\n",
    "    \n",
    "    \"\"\"\n",
    "    \n",
    "    # Calculate the loss\n",
    "    with tf.GradientTape() as tape:\n",
    "        loss = compute_loss(experiences, gamma, q_network, target_q_network)\n",
    "\n",
    "    # Get the gradients of the loss with respect to the weights.\n",
    "    gradients = tape.gradient(loss, q_network.trainable_variables)\n",
    "    \n",
    "    # Update the weights of the q_network.\n",
    "    optimizer.apply_gradients(zip(gradients, q_network.trainable_variables))\n",
    "\n",
    "    # update the weights of target q_network\n",
    "    utils.update_target_network(q_network, target_q_network)"
   ]
  },
  {
   "cell_type": "markdown",
   "metadata": {},
   "source": [
    "<a name=\"9\"></a>\n",
    "## 9 - Train the Agent\n",
    "\n",
    "We are now ready to train our agent to solve the Lunar Lander environment. In the cell below we will implement the algorithm in [Fig 3](#7) line by line (please note that we have included the same algorithm below for easy reference. This will prevent you from scrolling up and down the notebook):\n",
    "\n",
    "* **Line 1**: We initialize the `memory_buffer` with a capacity of $N =$ `MEMORY_SIZE`. Notice that we are using a `deque` as the data structure for our `memory_buffer`.\n",
    "\n",
    "\n",
    "* **Line 2**: We skip this line since we already initialized the `q_network` in [Exercise 1](#ex01).\n",
    "\n",
    "\n",
    "* **Line 3**: We initialize the `target_q_network` by setting its weights to be equal to those of the `q_network`.\n",
    "\n",
    "\n",
    "* **Line 4**: We start the outer loop. Notice that we have set $M =$ `num_episodes = 2000`. This number is reasonable because the agent should be able to solve the Lunar Lander environment in less than `2000` episodes using this notebook's default parameters.\n",
    "\n",
    "\n",
    "* **Line 5**: We use the `.reset()` method to reset the environment to the initial state and get the initial state.\n",
    "\n",
    "\n",
    "* **Line 6**: We start the inner loop. Notice that we have set $T =$ `max_num_timesteps = 1000`. This means that the episode will automatically terminate if the episode hasn't terminated after `1000` time steps.\n",
    "\n",
    "\n",
    "* **Line 7**: The agent observes the current `state` and chooses an `action` using an $\\epsilon$-greedy policy. Our agent starts out using a value of $\\epsilon =$ `epsilon = 1` which yields an $\\epsilon$-greedy policy that is equivalent to the equiprobable random policy. This means that at the beginning of our training, the agent is just going to take random actions regardless of the observed `state`. As training progresses we will decrease the value of $\\epsilon$ slowly towards a minimum value using a given $\\epsilon$-decay rate. We want this minimum value to be close to zero because a value of $\\epsilon = 0$ will yield an $\\epsilon$-greedy policy that is equivalent to the greedy policy. This means that towards the end of training, the agent will lean towards selecting the `action` that it believes (based on its past experiences) will maximize $Q(s,a)$. We will set the minimum $\\epsilon$ value to be `0.01` and not exactly 0 because we always want to keep a little bit of exploration during training. If you want to know how this is implemented in code we encourage you to take a look at the `utils.get_action` function in the `utils` module.\n",
    "\n",
    "\n",
    "* **Line 8**: We use the `.step()` method to take the given `action` in the environment and get the `reward` and the `next_state`. \n",
    "\n",
    "\n",
    "* **Line 9**: We store the `experience(state, action, reward, next_state, done)` tuple in our `memory_buffer`. Notice that we also store the `done` variable so that we can keep track of when an episode terminates. This allowed us to set the $y$ targets in [Exercise 2](#ex02).\n",
    "\n",
    "\n",
    "* **Line 10**: We check if the conditions are met to perform a learning update. We do this by using our custom `utils.check_update_conditions` function. This function checks if $C =$ `NUM_STEPS_FOR_UPDATE = 4` time steps have occured and if our `memory_buffer` has enough experience tuples to fill a mini-batch. For example, if the mini-batch size is `64`, then our `memory_buffer` should have more than `64` experience tuples in order to pass the latter condition. If the conditions are met, then the `utils.check_update_conditions` function will return a value of `True`, otherwise it will return a value of `False`.\n",
    "\n",
    "\n",
    "* **Lines 11 - 14**: If the `update` variable is `True` then we perform a learning update. The learning update consists of sampling a random mini-batch of experience tuples from our `memory_buffer`, setting the $y$ targets, performing gradient descent, and updating the weights of the networks. We will use the `agent_learn` function we defined in [Section 8](#8) to perform the latter 3.\n",
    "\n",
    "\n",
    "* **Line 15**: At the end of each iteration of the inner loop we set `next_state` as our new `state` so that the loop can start again from this new state. In addition, we check if the episode has reached a terminal state (i.e we check if `done = True`). If a terminal state has been reached, then we break out of the inner loop.\n",
    "\n",
    "\n",
    "* **Line 16**: At the end of each iteration of the outer loop we update the value of $\\epsilon$, and check if the environment has been solved. We consider that the environment has been solved if the agent receives an average of `200` points in the last `100` episodes. If the environment has not been solved we continue the outer loop and start a new episode.\n",
    "\n",
    "Finally, we wanted to note that we have included some extra variables to keep track of the total number of points the agent received in each episode. This will help us determine if the agent has solved the environment and it will also allow us to see how our agent performed during training. We also use the `time` module to measure how long the training takes. \n",
    "\n",
    "<br>\n",
    "<br>\n",
    "<figure>\n",
    "  <img src = \"images/deep_q_algorithm.png\" width = 90% style = \"border: thin silver solid; padding: 0px\">\n",
    "      <figcaption style = \"text-align: center; font-style: italic\">Fig 4. Deep Q-Learning with Experience Replay.</figcaption>\n",
    "</figure>\n",
    "<br>\n",
    "\n",
    "**Note:** With this notebook's default parameters, the following cell takes between 10 to 15 minutes to run. "
   ]
  },
  {
   "cell_type": "code",
   "execution_count": 27,
   "metadata": {
    "deletable": false,
    "editable": false
   },
   "outputs": [
    {
     "name": "stdout",
     "output_type": "stream",
     "text": [
      "Episode 100 | Total point average of the last 100 episodes: -145.35\n",
      "Episode 200 | Total point average of the last 100 episodes: -107.85\n",
      "Episode 300 | Total point average of the last 100 episodes: -38.700\n",
      "Episode 400 | Total point average of the last 100 episodes: -27.19\n",
      "Episode 500 | Total point average of the last 100 episodes: -12.33\n",
      "Episode 600 | Total point average of the last 100 episodes: 57.903\n",
      "Episode 692 | Total point average of the last 100 episodes: 201.84\n",
      "\n",
      "Environment solved in 692 episodes!\n",
      "\n",
      "Total Runtime: 1231.64 s (20.53 min)\n"
     ]
    }
   ],
   "source": [
    "start = time.time()\n",
    "\n",
    "num_episodes = 2000\n",
    "max_num_timesteps = 1000\n",
    "\n",
    "total_point_history = []\n",
    "\n",
    "num_p_av = 100    # number of total points to use for averaging\n",
    "epsilon = 1.0     # initial ε value for ε-greedy policy\n",
    "\n",
    "# Create a memory buffer D with capacity N\n",
    "memory_buffer = deque(maxlen=MEMORY_SIZE)\n",
    "\n",
    "# Set the target network weights equal to the Q-Network weights\n",
    "target_q_network.set_weights(q_network.get_weights())\n",
    "\n",
    "for i in range(num_episodes):\n",
    "    \n",
    "    # Reset the environment to the initial state and get the initial state\n",
    "    state = env.reset()\n",
    "    total_points = 0\n",
    "    \n",
    "    for t in range(max_num_timesteps):\n",
    "        \n",
    "        # From the current state S choose an action A using an ε-greedy policy\n",
    "        state_qn = np.expand_dims(state, axis=0)  # state needs to be the right shape for the q_network\n",
    "        q_values = q_network(state_qn)\n",
    "        action = utils.get_action(q_values, epsilon)\n",
    "        \n",
    "        # Take action A and receive reward R and the next state S'\n",
    "        next_state, reward, done, _ = env.step(action)\n",
    "        \n",
    "        # Store experience tuple (S,A,R,S') in the memory buffer.\n",
    "        # We store the done variable as well for convenience.\n",
    "        memory_buffer.append(experience(state, action, reward, next_state, done))\n",
    "        \n",
    "        # Only update the network every NUM_STEPS_FOR_UPDATE time steps.\n",
    "        update = utils.check_update_conditions(t, NUM_STEPS_FOR_UPDATE, memory_buffer)\n",
    "        \n",
    "        if update:\n",
    "            # Sample random mini-batch of experience tuples (S,A,R,S') from D\n",
    "            experiences = utils.get_experiences(memory_buffer)\n",
    "            \n",
    "            # Set the y targets, perform a gradient descent step,\n",
    "            # and update the network weights.\n",
    "            agent_learn(experiences, GAMMA)\n",
    "        \n",
    "        state = next_state.copy()\n",
    "        total_points += reward\n",
    "        \n",
    "        if done:\n",
    "            break\n",
    "            \n",
    "    total_point_history.append(total_points)\n",
    "    av_latest_points = np.mean(total_point_history[-num_p_av:])\n",
    "    \n",
    "    # Update the ε value\n",
    "    epsilon = utils.get_new_eps(epsilon)\n",
    "\n",
    "    print(f\"\\rEpisode {i+1} | Total point average of the last {num_p_av} episodes: {av_latest_points:.2f}\", end=\"\")\n",
    "\n",
    "    if (i+1) % num_p_av == 0:\n",
    "        print(f\"\\rEpisode {i+1} | Total point average of the last {num_p_av} episodes: {av_latest_points:.2f}\")\n",
    "\n",
    "    # We will consider that the environment is solved if we get an\n",
    "    # average of 200 points in the last 100 episodes.\n",
    "    if av_latest_points >= 200.0:\n",
    "        print(f\"\\n\\nEnvironment solved in {i+1} episodes!\")\n",
    "        q_network.save('lunar_lander_model.h5')\n",
    "        break\n",
    "        \n",
    "tot_time = time.time() - start\n",
    "\n",
    "print(f\"\\nTotal Runtime: {tot_time:.2f} s ({(tot_time/60):.2f} min)\")"
   ]
  },
  {
   "cell_type": "markdown",
   "metadata": {},
   "source": [
    "We can plot the total point history along with the moving average to see how our agent improved during training. If you want to know about the different plotting options available in the `utils.plot_history` function we encourage you to take a look at the `utils` module."
   ]
  },
  {
   "cell_type": "code",
   "execution_count": 28,
   "metadata": {
    "deletable": false,
    "editable": false,
    "id": "E_EUXxurfe8m",
    "scrolled": false
   },
   "outputs": [
    {
     "data": {
      "image/png": "[encoded data removed]",
      "text/plain": [
       "<Figure size 720x504 with 1 Axes>"
      ]
     },
     "metadata": {},
     "output_type": "display_data"
    }
   ],
   "source": [
    "# Plot the total point history along with the moving average\n",
    "utils.plot_history(total_point_history)"
   ]
  },
  {
   "cell_type": "markdown",
   "metadata": {
    "id": "c_xwgaX5MnYt"
   },
   "source": [
    "<a name=\"10\"></a>\n",
    "## 10 - See the Trained Agent In Action\n",
    "\n",
    "Now that we have trained our agent, we can see it in action. We will use the `utils.create_video` function to create a video of our agent interacting with the environment using the trained $Q$-Network. The `utils.create_video` function uses the `imageio` library to create the video. This library produces some warnings that can be distracting, so, to suppress these warnings we run the code below."
   ]
  },
  {
   "cell_type": "code",
   "execution_count": 29,
   "metadata": {
    "deletable": false,
    "editable": false
   },
   "outputs": [],
   "source": [
    "# Suppress warnings from imageio\n",
    "import logging\n",
    "logging.getLogger().setLevel(logging.ERROR)"
   ]
  },
  {
   "cell_type": "markdown",
   "metadata": {},
   "source": [
    "In the cell below we create a video of our agent interacting with the Lunar Lander environment using the trained `q_network`. The video is saved to the `videos` folder with the given `filename`. We use the `utils.embed_mp4` function to embed the video in the Jupyter Notebook so that we can see it here directly without having to download it.\n",
    "\n",
    "We should note that since the lunar lander starts with a random initial force applied to its center of mass, every time you run the cell below you will see a different video. If the agent was trained properly, it should be able to land the lunar lander in the landing pad every time, regardless of the initial force applied to its center of mass."
   ]
  },
  {
   "cell_type": "code",
   "execution_count": 32,
   "metadata": {
    "deletable": false,
    "editable": false,
    "id": "3Ttb_zLeJKiG"
   },
   "outputs": [
    {
     "data": {
      "text/html": [
       "\n",
       "    <video width=\"840\" height=\"480\" controls>\n",
       "    <source src=\"data:video/mp4;base64,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\" type=\"video/mp4\">\n",
       "    Your browser does not support the video tag.\n",
       "    </video>"
      ],
      "text/plain": [
       "<IPython.core.display.HTML object>"
      ]
     },
     "execution_count": 32,
     "metadata": {},
     "output_type": "execute_result"
    }
   ],
   "source": [
    "filename = \"./videos/lunar_lander.mp4\"\n",
    "\n",
    "utils.create_video(filename, env, q_network)\n",
    "utils.embed_mp4(filename)"
   ]
  },
  {
   "cell_type": "markdown",
   "metadata": {},
   "source": [
    "<a name=\"11\"></a>\n",
    "## 11 - Congratulations!\n",
    "\n",
    "You have successfully used Deep Q-Learning with Experience Replay to train an agent to land a lunar lander safely on a landing pad on the surface of the moon. Congratulations!"
   ]
  },
  {
   "cell_type": "markdown",
   "metadata": {},
   "source": [
    "<a name=\"12\"></a>\n",
    "## 12 - References\n",
    "\n",
    "If you would like to learn more about Deep Q-Learning, we recommend you check out the following papers.\n",
    "\n",
    "\n",
    "* Mnih, V., Kavukcuoglu, K., Silver, D. et al. Human-level control through deep reinforcement learning. Nature 518, 529–533 (2015).\n",
    "\n",
    "\n",
    "* Lillicrap, T. P., Hunt, J. J., Pritzel, A., et al. Continuous Control with Deep Reinforcement Learning. ICLR (2016).\n",
    "\n",
    "\n",
    "* Mnih, V., Kavukcuoglu, K., Silver, D. et al. Playing Atari with Deep Reinforcement Learning. arXiv e-prints.  arXiv:1312.5602 (2013)."
   ]
  },
  {
   "cell_type": "markdown",
   "metadata": {},
   "source": [
    "<details>\n",
    "  <summary><font size=\"2\" color=\"darkgreen\"><b>Please click here if you want to experiment with any of the non-graded code.</b></font></summary>\n",
    "    <p><i><b>Important Note: Please only do this when you've already passed the assignment to avoid problems with the autograder.</b></i>\n",
    "    <ol>\n",
    "        <li> On the notebook’s menu, click “View” > “Cell Toolbar” > “Edit Metadata”</li>\n",
    "        <li> Hit the “Edit Metadata” button next to the code cell which you want to lock/unlock</li>\n",
    "        <li> Set the attribute value for “editable” to:\n",
    "            <ul>\n",
    "                <li> “true” if you want to unlock it </li>\n",
    "                <li> “false” if you want to lock it </li>\n",
    "            </ul>\n",
    "        </li>\n",
    "        <li> On the notebook’s menu, click “View” > “Cell Toolbar” > “None” </li>\n",
    "    </ol>\n",
    "    <p> Here's a short demo of how to do the steps above: \n",
    "        <br>\n",
    "        <img src=\"https://lh3.google.com/u/0/d/14Xy_Mb17CZVgzVAgq7NCjMVBvSae3xO1\" align=\"center\" alt=\"unlock_cells.gif\">\n",
    "</details>"
   ]
  }
 ],
 "metadata": {
  "accelerator": "GPU",
  "colab": {
   "collapsed_sections": [],
   "name": "TensorFlow - Lunar Lander.ipynb",
   "provenance": []
  },
  "kernelspec": {
   "display_name": "Python 3",
   "language": "python",
   "name": "python3"
  },
  "language_info": {
   "codemirror_mode": {
    "name": "ipython",
    "version": 3
   },
   "file_extension": ".py",
   "mimetype": "text/x-python",
   "name": "python",
   "nbconvert_exporter": "python",
   "pygments_lexer": "ipython3",
   "version": "3.7.6"
  }
 },
 "nbformat": 4,
 "nbformat_minor": 1
}
